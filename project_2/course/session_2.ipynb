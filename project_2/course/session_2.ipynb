{
 "cells": [
  {
   "cell_type": "markdown",
   "source": "# Session 2 - Word representation\n\nIn this lesson, we will learn how to represent a word so that you can treat it as a piece of knowledge—learning the basics of feature representation.",
   "metadata": {
    "cell_id": "00000-ca5564b4-2092-42f6-b82e-28b6cf54659e",
    "deepnote_cell_type": "markdown"
   }
  },
  {
   "cell_type": "markdown",
   "source": "## [15-20 min] Review one group work on first task\n",
   "metadata": {
    "cell_id": "00001-7852b9c6-cd60-4404-8d4d-fe665ca37d1c",
    "deepnote_cell_type": "markdown"
   }
  },
  {
   "cell_type": "code",
   "metadata": {
    "tags": [],
    "cell_id": "00002-b790a5be-3c17-44ac-aaf9-c36711c9acc0",
    "deepnote_to_be_reexecuted": false,
    "source_hash": "c38a972f",
    "execution_start": 1634765543439,
    "execution_millis": 56,
    "deepnote_cell_type": "code"
   },
   "source": "import random\nfrom collections import Counter\n\nnumbers = [random.randint(1, 3) for _ in range(20)]\npoll = Counter(numbers)\n\nselected = max(poll.items(), key=lambda x: x[1])\n\nprint(f\"Group to present will be group number {selected[0]} with {selected[1]} votes\")",
   "execution_count": null,
   "outputs": [
    {
     "name": "stdout",
     "text": "Group to present will be group number 2 with 12 votes\n",
     "output_type": "stream"
    }
   ]
  },
  {
   "cell_type": "markdown",
   "source": "## [30 min] How to represent our text to the model",
   "metadata": {
    "tags": [],
    "cell_id": "00002-e4f754a9-e89d-470c-b543-edf239ecc3eb",
    "deepnote_cell_type": "markdown"
   }
  },
  {
   "cell_type": "code",
   "metadata": {
    "tags": [],
    "cell_id": "00004-46266c8a-6035-4666-a195-21ae7586602d",
    "deepnote_to_be_reexecuted": false,
    "source_hash": "11aaaa2b",
    "execution_start": 1634765543494,
    "execution_millis": 1486,
    "deepnote_cell_type": "code"
   },
   "source": "import pandas as pd\nimport sys\nimport os\nimport re\nfrom sklearn.feature_extraction.text import TfidfVectorizer, CountVectorizer",
   "execution_count": null,
   "outputs": []
  },
  {
   "cell_type": "code",
   "metadata": {
    "tags": [],
    "cell_id": "00005-1b87804b-9695-4a9c-838e-267f9c215674",
    "deepnote_to_be_reexecuted": false,
    "source_hash": "a3b31fac",
    "execution_start": 1634765671565,
    "execution_millis": 250,
    "deepnote_cell_type": "code"
   },
   "source": "#We will import and read our dataset using pandas\nfrom sklearn.datasets import fetch_20newsgroups\ndata = fetch_20newsgroups()\ndataset = pd.DataFrame({\"text\": data[\"data\"], \"label\": data[\"target\"]})",
   "execution_count": null,
   "outputs": []
  },
  {
   "cell_type": "code",
   "metadata": {
    "tags": [],
    "cell_id": "00006-70308d27-cdc5-45fc-99b6-73f76d72b5e0",
    "deepnote_to_be_reexecuted": false,
    "source_hash": "d2bb61bc",
    "execution_start": 1634765672056,
    "execution_millis": 3,
    "deepnote_cell_type": "code"
   },
   "source": "with open(\"../assets/stopwords.txt\", \"r\") as f:  # type:ignore[name-defined]\n    STOPWORDS = [i.strip().lower() for i in f.readlines()]",
   "execution_count": null,
   "outputs": []
  },
  {
   "cell_type": "code",
   "metadata": {
    "tags": [],
    "cell_id": "00007-af622785-cea5-48f8-82e5-7a71727e3216",
    "deepnote_to_be_reexecuted": false,
    "source_hash": "882ee06",
    "execution_start": 1634765672486,
    "execution_millis": 1,
    "deepnote_cell_type": "code"
   },
   "source": "sentences = dataset[\"text\"].values",
   "execution_count": null,
   "outputs": []
  },
  {
   "cell_type": "markdown",
   "source": "### Preprocessing\n\nLet's generalize and create a unique function that can be easily costomizable\n",
   "metadata": {
    "tags": [],
    "cell_id": "00009-630e8649-c3a2-4dcf-9163-e0958a2c2f06",
    "deepnote_cell_type": "markdown"
   }
  },
  {
   "cell_type": "code",
   "metadata": {
    "tags": [],
    "cell_id": "00009-6e772df5-96b3-4e60-88ec-0bd7ec610ae1",
    "deepnote_to_be_reexecuted": false,
    "source_hash": "c600a1d",
    "execution_start": 1634765676076,
    "execution_millis": 1,
    "deepnote_cell_type": "code"
   },
   "source": "def get_preprocessing_function(\n    use_lower: bool = True,\n    use_alpha: bool = True,\n    use_stemming: bool = False\n):\n    \n    def alpha(text: str):\n        return re.sub(\"[^a-z]+\", \" \", text) if use_alpha else text\n\n    def lower(text: str):\n        return text.lower() if use_lower else text\n        \n    def stemming(text: str):\n        #TODO Write this function\n        return text\n    \n    def preprocess(text: str):\n        #Create list of steps\n        steps = [lower, alpha, stemming]\n        for step in steps:\n            text = step(text)\n        return text\n    \n    return preprocess",
   "execution_count": null,
   "outputs": []
  },
  {
   "cell_type": "code",
   "metadata": {
    "tags": [],
    "cell_id": "00010-79bf2e18-21bf-45d9-bf54-d267629ea3a9",
    "deepnote_to_be_reexecuted": false,
    "source_hash": "56fb32c7",
    "execution_start": 1634765678142,
    "execution_millis": 0,
    "deepnote_cell_type": "code"
   },
   "source": "preprocess = get_preprocessing_function(\n    use_lower = True,\n    use_alpha = True,\n    use_stemming = True\n)",
   "execution_count": null,
   "outputs": []
  },
  {
   "cell_type": "code",
   "metadata": {
    "tags": [],
    "cell_id": "00011-250bf0ae-499c-4c86-8482-77e2d49b4e1d",
    "deepnote_to_be_reexecuted": false,
    "source_hash": "e270cb04",
    "execution_start": 1634765871757,
    "execution_millis": 32,
    "deepnote_cell_type": "code"
   },
   "source": "sample = dataset.sample(100)\nsample[\"text\"] = sample[\"text\"].fillna(\".\")\nsample[\"text\"] = sample[\"text\"].astype(str)\nsample[\"text\"] = sample[\"text\"].apply(preprocess)",
   "execution_count": null,
   "outputs": []
  },
  {
   "cell_type": "code",
   "metadata": {
    "tags": [],
    "cell_id": "00012-93525a5b-86ef-48bf-b250-9beccc9ac3fd",
    "deepnote_to_be_reexecuted": false,
    "source_hash": "9a77da7e",
    "execution_start": 1634765764209,
    "execution_millis": 4,
    "deepnote_cell_type": "code"
   },
   "source": "sample[\"text\"].values[1]",
   "execution_count": null,
   "outputs": [
    {
     "output_type": "execute_result",
     "execution_count": 35,
     "data": {
      "text/plain": "'from ffritze hpwad wad hp com fromut fritze subject re anyone know stacker s email address organization hewlett packard waldbronn germany lines does anybody know if stacker has a e mail address and if so what it is i know they have a bbs and something on compuserve but i m hoping someone know s their e mail address john white from stac electronics can be reached at compuserv as for me compuserve com would as email address work from internet internet ffritze hpwbe wad hp com phone germany address fromut fritze waldbronn analytic division r d hewlett packard str d waldbronn germany '"
     },
     "metadata": {}
    }
   ]
  },
  {
   "cell_type": "code",
   "metadata": {
    "tags": [],
    "cell_id": "00011-74a3fd27-0e55-4a6e-9961-b45106144754",
    "deepnote_to_be_reexecuted": false,
    "source_hash": "b0aced6d",
    "execution_start": 1634766266886,
    "execution_millis": 1,
    "deepnote_cell_type": "code"
   },
   "source": "sentence = random.choice(list(sentences))",
   "execution_count": null,
   "outputs": []
  },
  {
   "cell_type": "code",
   "metadata": {
    "tags": [],
    "cell_id": "00012-17e26c2d-b591-4575-bf2d-a76feb81b311",
    "deepnote_to_be_reexecuted": false,
    "source_hash": "c8e7e13c",
    "execution_start": 1634766268322,
    "execution_millis": 0,
    "deepnote_cell_type": "code"
   },
   "source": "processed_sentence = preprocess(sentence)\n\nprint(f\"\"\"\nNon processed corpus:\n{sentence}\n------------------------\nProcessed corpus:\n{processed_sentence}\n\"\"\")\n",
   "execution_count": null,
   "outputs": [
    {
     "name": "stdout",
     "text": "\nNon processed corpus:\nSubject: [ANNOUNCE] Ivan Sutherland to speak at Harvard\nFrom: eekim@husc11.harvard.edu (Eugene Kim)\nDistribution: harvard\nOrganization: Harvard University Science Center\nNntp-Posting-Host: husc11.harvard.edu\nLines: 21\n\nThe Harvard Computer Society is pleased to announce its third lecture of\nthe spring.  Ivan Sutherland, the father of computer graphics and an\ninnovator in microprocessing, will be speaking at Harvard University on\nTuesday, April 20, 1993, at 4:00 pm in Aiken Computations building, room\n101.  The title of his talk is \"Logical Effort and the Conflict over the\nControl of Information.\"\n\nCookies and tea will be served at 3:30 pm in the Aiken Lobby.  Admissions\nis free, and all are welcome.\n\nAiken is located north of the Science Center near the Law School.\n\nFor more information, send e-mail to eekim@husc.harvard.edu.\n\nThe lecture will be videotaped, and a tape will be made available.\n\nThanks.\n\n-- \nEugene Kim '96                     |   \"Give me a place to stand, and I will\nINTERNET: eekim@husc.harvard.edu   |    move the earth.\"        --Archimedes\n\n------------------------\nProcessed corpus:\nsubject announce ivan sutherland to speak at harvard from eekim husc harvard edu eugene kim distribution harvard organization harvard university science center nntp posting host husc harvard edu lines the harvard computer society is pleased to announce its third lecture of the spring ivan sutherland the father of computer graphics and an innovator in microprocessing will be speaking at harvard university on tuesday april at pm in aiken computations building room the title of his talk is logical effort and the conflict over the control of information cookies and tea will be served at pm in the aiken lobby admissions is free and all are welcome aiken is located north of the science center near the law school for more information send e mail to eekim husc harvard edu the lecture will be videotaped and a tape will be made available thanks eugene kim give me a place to stand and i will internet eekim husc harvard edu move the earth archimedes \n\n",
     "output_type": "stream"
    }
   ]
  },
  {
   "cell_type": "markdown",
   "source": "### Vectorization\n\nNow that we have a good function to clean our text, we want to create a vectorial representation of each sentence in order to be processed by several models.\n\n#### CountVectorizer\n\n",
   "metadata": {
    "tags": [],
    "cell_id": "00013-a26491cb-8e8e-48ce-a927-6a6ab995f785",
    "deepnote_cell_type": "markdown"
   }
  },
  {
   "cell_type": "code",
   "metadata": {
    "tags": [],
    "cell_id": "00014-3633a79c-a8fa-4e92-a97d-3496983ddbd0",
    "deepnote_to_be_reexecuted": false,
    "source_hash": "e239605b",
    "execution_start": 1634766109166,
    "execution_millis": 1,
    "deepnote_cell_type": "code"
   },
   "source": "count_vec = CountVectorizer(\n    preprocessor=preprocess,\n    tokenizer=lambda s: s.split(),\n    stop_words=STOPWORDS,\n    min_df=4,\n    max_df=0.8,\n    max_features=10    \n)",
   "execution_count": null,
   "outputs": []
  },
  {
   "cell_type": "code",
   "metadata": {
    "tags": [],
    "cell_id": "00013-78361512-c19a-406b-951c-d5b5d4802f41",
    "deepnote_to_be_reexecuted": false,
    "source_hash": "7ebf847c",
    "execution_start": 1634766279577,
    "execution_millis": 1,
    "deepnote_cell_type": "code"
   },
   "source": "# count_vec = count_vec.fit([sentence])\nvector = count_vec.transform([sentence])",
   "execution_count": null,
   "outputs": []
  },
  {
   "cell_type": "code",
   "metadata": {
    "tags": [],
    "cell_id": "00016-0ee0b6fc-f975-4558-b52a-9fbb99994a13",
    "deepnote_to_be_reexecuted": false,
    "source_hash": "863d6fac",
    "execution_start": 1634766281460,
    "execution_millis": 6,
    "deepnote_cell_type": "code"
   },
   "source": "vector.todense()",
   "execution_count": null,
   "outputs": [
    {
     "output_type": "execute_result",
     "execution_count": 53,
     "data": {
      "text/plain": "matrix([[0, 0, 1, 0, 0, 0, 0, 0, 0, 0]])"
     },
     "metadata": {}
    }
   ]
  },
  {
   "cell_type": "code",
   "metadata": {
    "tags": [],
    "cell_id": "00017-c584633a-efa9-49f3-83c8-9b067ed55073",
    "deepnote_to_be_reexecuted": false,
    "source_hash": "815103a7",
    "execution_start": 1634766112779,
    "execution_millis": 3,
    "deepnote_cell_type": "code"
   },
   "source": "sorted(count_vec.vocabulary_.items(), key=lambda x: x[1])",
   "execution_count": null,
   "outputs": [
    {
     "output_type": "execute_result",
     "execution_count": 47,
     "data": {
      "text/plain": "[('auto', 0),\n ('new', 1),\n ('organization', 2),\n ('paper', 3),\n ('post', 4),\n ('r', 5),\n ('virginia', 6),\n ('warren', 7),\n ('writer', 8),\n ('yorker', 9)]"
     },
     "metadata": {}
    }
   ]
  },
  {
   "cell_type": "markdown",
   "source": "### Explanation of the CountVectorizer parameters\n\n- max_df: Define the frequency of max observation in the training set (can be a number or a fraction) \n    \n- min_df: Same thing than max_df but for min observation\n\n- stop_words: We saw that in the last session. One thing to consider here is the fact that you want to make sure that the stopword will match your tokenizer and preprocessor pattern.\n\n- max_features: Number of maximum word in the vocabulary (this is optional, a good configuration of max_df and min_df should be enough)\n\n- ngram_range: The n-gram range that we want to accept.",
   "metadata": {
    "tags": [],
    "cell_id": "00018-bc97df65-9577-4c13-bea3-ab3e03969eeb",
    "deepnote_cell_type": "markdown"
   }
  },
  {
   "cell_type": "code",
   "metadata": {
    "tags": [],
    "cell_id": "00019-e957b364-0064-463b-ad66-298906f27aa4",
    "deepnote_to_be_reexecuted": false,
    "source_hash": "c8a9ff8e",
    "execution_start": 1634766770136,
    "execution_millis": 0,
    "deepnote_cell_type": "code"
   },
   "source": "#Parameters that we can tune\nNGRAM = (1, 1) #Add more features when context is needed\nMIN_DF = 0.1 #The more, the more specific\nMAX_DF = 0.3 #The less, the more specific\nMAX_FEATURES = 100 #Define the lenght of the vocabulary",
   "execution_count": null,
   "outputs": []
  },
  {
   "cell_type": "code",
   "metadata": {
    "tags": [],
    "cell_id": "00020-6e5f11ba-065e-41ac-8103-f16c122579e2",
    "deepnote_to_be_reexecuted": false,
    "source_hash": "8842541a",
    "execution_start": 1634766773361,
    "execution_millis": 2,
    "deepnote_cell_type": "code"
   },
   "source": "count_vec = CountVectorizer(\n    preprocessor=preprocess,\n    ngram_range=NGRAM,\n    tokenizer=lambda s: s.split(),\n    stop_words=STOPWORDS,\n    min_df=MIN_DF,\n    max_df=MAX_DF,\n    max_features=MAX_FEATURES    \n)",
   "execution_count": null,
   "outputs": []
  },
  {
   "cell_type": "code",
   "metadata": {
    "tags": [],
    "cell_id": "00021-85b0949d-330e-4b84-b87b-0dcb957d78b9",
    "deepnote_to_be_reexecuted": false,
    "source_hash": "b66a9c92",
    "execution_start": 1634766781734,
    "execution_millis": 3428,
    "deepnote_cell_type": "code"
   },
   "source": "count_vec = count_vec.fit(sentences)",
   "execution_count": null,
   "outputs": []
  },
  {
   "cell_type": "code",
   "metadata": {
    "tags": [],
    "cell_id": "00022-4b81a12e-c866-4281-9157-3334bf6df615",
    "deepnote_to_be_reexecuted": false,
    "source_hash": "c8d66d84",
    "execution_start": 1634766738236,
    "execution_millis": 2,
    "deepnote_cell_type": "code"
   },
   "source": "voc1 = list(count_vec.vocabulary_.keys())\nprint(voc1)",
   "execution_count": null,
   "outputs": [
    {
     "name": "stdout",
     "text": "['edu', 'nntp', 'posting', 'host', 'university', 'anyone', 'could', 'really', 'know', 'years', 'please', 'e', 'mail', 'thanks', 'u', 'article', 'number', 'two', 'computer', 'distribution', 'usa', 'well', 'k', 'way', 'back', 'new', 'c', 'make', 'since', 'like', 'much', 'better', 'good', 'people', 'use', 'question', 'might', 'news', 'time', 'f', 'w', 'p', 'world', 'com', 'x', 'j', 'writes', 'information', 'n', 'h', 'cs', 'system', 'things', 'right', 'see', 'r', 'apr', 'v', 'many', 'need', 'government', 'would', 'say', 'believe', 'even', 'must', 'using', 'year', 'first', 'point', 'reply', 'file', 'last', 'state', 'may', 'still', 'problem', 'said', 'think', 'go', 'going', 'one', 'help', 'b', 'work', 'something', 'want', 'ca', 'god', 'never', 'g', 'space', 'used', 'take', 'l', 'windows', 'q', 'max', 'z', 'ax']\n",
     "output_type": "stream"
    }
   ]
  },
  {
   "cell_type": "code",
   "metadata": {
    "tags": [],
    "cell_id": "00023-75cac93b-030b-4774-8ddc-af1be5b2db0b",
    "deepnote_to_be_reexecuted": false,
    "source_hash": "f1194afb",
    "execution_start": 1634766785169,
    "execution_millis": 9,
    "deepnote_cell_type": "code"
   },
   "source": "voc2 = list(count_vec.vocabulary_.keys())\nprint(voc2)",
   "execution_count": null,
   "outputs": [
    {
     "name": "stdout",
     "text": "['thing', 'anyone', 'could', 'really', 'know', 'years', 'please', 'e', 'mail', 'thanks', 'u', 'two', 'computer', 'distribution', 'usa', 'well', 'way', 'back', 'new', 'c', 'make', 'since', 'got', 'much', 'better', 'good', 'people', 'use', 'question', 'might', 'news', 'time', 'world', 'x', 'cs', 'system', 'things', 'right', 'see', 'r', 'apr', 'many', 'need', 'say', 'believe', 'even', 'must', 'using', 'read', 'first', 'point', 'another', 'reply', 'sure', 'last', 'state', 'long', 'may', 'still', 'problem', 'said', 'think', 'go', 'going', 'help', 'b', 'work', 'something', 'without', 'want', 'ca', 'case', 'never', 'let', 'used', 'take', 'someone', 'etc']\n",
     "output_type": "stream"
    }
   ]
  },
  {
   "cell_type": "markdown",
   "source": "## TFidf\n\nHow can CountVectorizer be improved?",
   "metadata": {
    "tags": [],
    "cell_id": "00024-070ed041-9d44-4644-a7f6-fee54bcb5473",
    "deepnote_cell_type": "markdown"
   }
  },
  {
   "cell_type": "code",
   "metadata": {
    "tags": [],
    "cell_id": "00025-c8239ff3-da2e-4698-b6a2-017fa62bc584",
    "deepnote_to_be_reexecuted": false,
    "source_hash": "6704b312",
    "execution_start": 1634766879510,
    "execution_millis": 1,
    "deepnote_cell_type": "code"
   },
   "source": "idf_vec = TfidfVectorizer(\n    preprocessor=preprocess,\n    ngram_range=NGRAM,\n    tokenizer=lambda s: s.split(),\n    stop_words=STOPWORDS,\n    min_df=MIN_DF,\n    max_df=MAX_DF,\n    max_features=MAX_FEATURES,\n    use_idf=True,\n    smooth_idf=True\n)",
   "execution_count": null,
   "outputs": []
  },
  {
   "cell_type": "code",
   "metadata": {
    "tags": [],
    "cell_id": "00027-d3952d66-88e8-449f-b43c-c8cbab2d7645",
    "deepnote_to_be_reexecuted": false,
    "source_hash": "20928787",
    "execution_start": 1634766880424,
    "execution_millis": 3442,
    "deepnote_cell_type": "code"
   },
   "source": "idf_vec = idf_vec.fit(sentences)",
   "execution_count": null,
   "outputs": []
  },
  {
   "cell_type": "code",
   "metadata": {
    "tags": [],
    "cell_id": "00027-9e92bfb7-c2ba-4800-ad89-271f5599fe64",
    "deepnote_to_be_reexecuted": false,
    "source_hash": "7896a177",
    "execution_start": 1634766883871,
    "execution_millis": 1318907,
    "deepnote_cell_type": "code"
   },
   "source": "voc_idf = list(idf_vec.vocabulary_.keys())",
   "execution_count": null,
   "outputs": []
  },
  {
   "cell_type": "code",
   "metadata": {
    "tags": [],
    "cell_id": "00028-76106afd-e6c9-4101-811d-533ee5a41a9d",
    "deepnote_to_be_reexecuted": false,
    "source_hash": "c36f7a9c",
    "execution_start": 1634766885290,
    "execution_millis": 3,
    "deepnote_cell_type": "code"
   },
   "source": "print(voc_idf)",
   "execution_count": null,
   "outputs": [
    {
     "name": "stdout",
     "text": "['thing', 'anyone', 'could', 'really', 'know', 'years', 'please', 'e', 'mail', 'thanks', 'u', 'two', 'computer', 'distribution', 'usa', 'well', 'way', 'back', 'new', 'c', 'make', 'since', 'got', 'much', 'better', 'good', 'people', 'use', 'question', 'might', 'news', 'time', 'world', 'x', 'cs', 'system', 'things', 'right', 'see', 'r', 'apr', 'many', 'need', 'say', 'believe', 'even', 'must', 'using', 'read', 'first', 'point', 'another', 'reply', 'sure', 'last', 'state', 'long', 'may', 'still', 'problem', 'said', 'think', 'go', 'going', 'help', 'b', 'work', 'something', 'without', 'want', 'ca', 'case', 'never', 'let', 'used', 'take', 'someone', 'etc']\n",
     "output_type": "stream"
    }
   ]
  },
  {
   "cell_type": "code",
   "metadata": {
    "tags": [],
    "cell_id": "00029-067eff90-fc58-4222-ae53-a5bf70fde096",
    "deepnote_to_be_reexecuted": false,
    "source_hash": "3d9d959b",
    "execution_start": 1634766891550,
    "execution_millis": 0,
    "deepnote_cell_type": "code"
   },
   "source": "idf_vec = TfidfVectorizer(\n    preprocessor=preprocess,\n    ngram_range=NGRAM,\n    tokenizer=lambda s: s.split(),\n    stop_words=STOPWORDS,\n    min_df=0,\n    max_df=10,\n    max_features=10,\n    use_idf=True,\n    smooth_idf=True\n)",
   "execution_count": null,
   "outputs": []
  },
  {
   "cell_type": "code",
   "metadata": {
    "tags": [],
    "cell_id": "00030-89e826ae-562b-492f-9a4f-c190dca32d3d",
    "deepnote_to_be_reexecuted": false,
    "source_hash": "8d493648",
    "execution_start": 1634766892586,
    "execution_millis": 10,
    "deepnote_cell_type": "code"
   },
   "source": "vector = idf_vec.fit_transform([sentence])",
   "execution_count": null,
   "outputs": []
  },
  {
   "cell_type": "code",
   "metadata": {
    "tags": [],
    "cell_id": "00031-d6d2636b-7753-4745-a9ef-9bd8fe205e29",
    "deepnote_to_be_reexecuted": false,
    "source_hash": "863d6fac",
    "execution_start": 1634766894490,
    "execution_millis": 0,
    "deepnote_cell_type": "code"
   },
   "source": "vector.todense()",
   "execution_count": null,
   "outputs": [
    {
     "output_type": "execute_result",
     "execution_count": 92,
     "data": {
      "text/plain": "matrix([[0.24413654, 0.32551538, 0.24413654, 0.16275769, 0.73240961,\n         0.32551538, 0.16275769, 0.16275769, 0.16275769, 0.16275769]])"
     },
     "metadata": {}
    }
   ]
  },
  {
   "cell_type": "markdown",
   "source": "## [10 min] Questions\n\n\n## [5 min] Next assigment",
   "metadata": {
    "tags": [],
    "cell_id": "00032-ac2f118c-e5db-487a-b9ca-0e5dbe9d929f",
    "deepnote_cell_type": "markdown"
   }
  },
  {
   "cell_type": "code",
   "metadata": {
    "tags": [],
    "cell_id": "00034-b4048664-5886-4127-a57a-8a0c7ea5763f",
    "deepnote_to_be_reexecuted": false,
    "source_hash": "36bd952f",
    "execution_start": 1634767143167,
    "execution_millis": 6,
    "deepnote_cell_type": "code"
   },
   "source": "groups = [1, 2, 3]\nrandom.shuffle(groups)\nprint(groups)",
   "execution_count": null,
   "outputs": [
    {
     "name": "stdout",
     "text": "[2, 3, 1]\n",
     "output_type": "stream"
    }
   ]
  },
  {
   "cell_type": "markdown",
   "source": "Group 2:\n- Non-negative matrix factorization (NMF or NNMF)\n\nGroup 3:\n- Latent Dirichlet Allocation (LDA)\n\nGroup 1:\n- K-means",
   "metadata": {
    "tags": [],
    "cell_id": "00033-990b2888-19f6-4e25-9fba-4bb77888f7fc",
    "deepnote_cell_type": "markdown"
   }
  },
  {
   "cell_type": "markdown",
   "source": "",
   "metadata": {
    "tags": [],
    "cell_id": "00034-571ea6a1-beda-4ae5-b10d-22db0f51131f",
    "deepnote_cell_type": "markdown"
   }
  },
  {
   "cell_type": "markdown",
   "source": "<a style='text-decoration:none;line-height:16px;display:flex;color:#5B5B62;padding:10px;justify-content:end;' href='https://deepnote.com?utm_source=created-in-deepnote-cell&projectId=4b514847-e145-4e51-9c26-e306429d4631' target=\"_blank\">\n<img alt='Created in deepnote.com' style='display:inline;max-height:16px;margin:0px;margin-right:7.5px;' src='data:image/svg+xml;base64,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' > </img>\nCreated in <span style='font-weight:600;margin-left:4px;'>Deepnote</span></a>",
   "metadata": {
    "tags": [],
    "created_in_deepnote_cell": true,
    "deepnote_cell_type": "markdown"
   }
  }
 ],
 "nbformat": 4,
 "nbformat_minor": 2,
 "metadata": {
  "orig_nbformat": 4,
  "language_info": {
   "name": "python"
  },
  "deepnote_notebook_id": "92cd65a6-e660-4c1e-a77d-f08a360c546d",
  "deepnote": {},
  "deepnote_execution_queue": []
 }
}