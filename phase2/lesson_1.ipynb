{
 "cells": [
  {
   "cell_type": "markdown",
   "source": [
    "# Week 1 - Data representation from text\n",
    "\n",
    "In this lesson, we will learn the basics of data representation. You will discover several techniques to represent a document into something that a model can process—learning from the primary count vectorizer to the more complex Tfidf, their differences, and what makes each of them better for a specific use case. We will also cover some data cleaning approaches to avoid treating noise or unnecessary information in our observations.\n",
    "\n",
    "Keywords: *tokenization*, *stop words*, *feature representation*, *count vectorizer*, *tfidf*, *regex*, *feature selection*"
   ],
   "metadata": {}
  },
  {
   "cell_type": "markdown",
   "source": [
    "## Overview of the project and the data\n",
    "This project stage focuses on building a classification model to assign a company to its industry using the company description scraped online. We will be discovering how to represent the information to be understood by the machine quickly and find the best method to gain accuracy. You will develop an independent pipeline that will take text as input and give you the closer industry related to your input information during this stage."
   ],
   "metadata": {}
  },
  {
   "cell_type": "markdown",
   "source": [
    "Let's first look at the dataset that we will be using during this whole course using a famous library called [Pandas](https://www.educba.com/what-is-pandas/):"
   ],
   "metadata": {}
  },
  {
   "cell_type": "code",
   "execution_count": 3,
   "source": [
    "#Let's import the library\n",
    "import pandas as pd #We define an alias for future usage of the library"
   ],
   "outputs": [],
   "metadata": {}
  },
  {
   "cell_type": "code",
   "execution_count": null,
   "source": [
    "#We will import and read our dataset using pandas\n",
    "dataset = pd.read_csv(\"\")"
   ],
   "outputs": [],
   "metadata": {}
  },
  {
   "cell_type": "code",
   "execution_count": null,
   "source": [
    "#Let's now read look at a sample of the data\n",
    "dataset.head()"
   ],
   "outputs": [],
   "metadata": {}
  },
  {
   "cell_type": "markdown",
   "source": [
    "There are **2** features in this dataset:\n",
    "The name of the company\n",
    "The description of the company. We assumed that we cleaned this text, so no unnecessary information is present in the text. If you want to learn more about this step of cleaning data, refer to stage 1 of this course."
   ],
   "metadata": {}
  },
  {
   "cell_type": "markdown",
   "source": [
    "We still have unnecessary information stored in this text. To remove it, we filter and clean the text using regular expressions. Short for regular expression, a regex is a string of text that allows you to create patterns that help match, locate, and manage text."
   ],
   "metadata": {}
  },
  {
   "cell_type": "markdown",
   "source": [
    "Here is an example:\n",
    "\n",
    "![Regular expression](https://www.computerhope.com/jargon/r/regular-expression.gif)"
   ],
   "metadata": {}
  },
  {
   "cell_type": "markdown",
   "source": [
    "In our case, we don't want to use numbers or special characters because this information can be utilized in any industry and doesn't seem to be a strong marker of knowledge. We can apply a regex function to the dataset such as follow:"
   ],
   "metadata": {}
  },
  {
   "cell_type": "markdown",
   "source": [
    "## How do you represent text for machine learning?\n",
    "## Why do we need to clean our text?\n",
    "## Transforming text into features"
   ],
   "metadata": {}
  }
 ],
 "metadata": {
  "orig_nbformat": 4,
  "language_info": {
   "name": "python",
   "version": "3.9.5",
   "mimetype": "text/x-python",
   "codemirror_mode": {
    "name": "ipython",
    "version": 3
   },
   "pygments_lexer": "ipython3",
   "nbconvert_exporter": "python",
   "file_extension": ".py"
  },
  "kernelspec": {
   "name": "python3",
   "display_name": "Python 3.9.5 64-bit"
  },
  "interpreter": {
   "hash": "aee8b7b246df8f9039afb4144a1f6fd8d2ca17a180786b69acc140d282b71a49"
  }
 },
 "nbformat": 4,
 "nbformat_minor": 2
}