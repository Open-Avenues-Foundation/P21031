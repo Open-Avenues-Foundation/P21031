{
 "cells": [
  {
   "cell_type": "markdown",
   "source": [
    "# Week 2 - Unsupervised word representation\n",
    "\n",
    "In this lesson, we will learn how to represent a word so that you can treat it as a piece of knowledge—learning the basics of feature representation. In addition, this session will help you learn a famous model called word2vec, which enables you to understand much more about the word based on its context. \n",
    "\n",
    "Keywords: *word2vec*, *feature selection*, *feature representation*, *embedding space*"
   ],
   "metadata": {}
  },
  {
   "cell_type": "markdown",
   "source": [
    "# Plan"
   ],
   "metadata": {}
  }
 ],
 "metadata": {
  "orig_nbformat": 4,
  "language_info": {
   "name": "python"
  }
 },
 "nbformat": 4,
 "nbformat_minor": 2
}