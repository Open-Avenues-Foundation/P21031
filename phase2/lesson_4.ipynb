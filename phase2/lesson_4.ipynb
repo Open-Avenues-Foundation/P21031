{
 "cells": [
  {
   "cell_type": "markdown",
   "source": [
    "# Week 4 - What is done in the industry?\n",
    "\n",
    "In this final lesson, I will walk you through alternatives to the model we designed and see how it compares. Next, we will cover old unsupervised methods that are successful in modeling topics in a vast set of observations. Then, we will see how to compare performances and find the advantages and weaknesses of each model. Finally, I will present to you what is currently done in Data science, especially in Natural Language Processing, to classify documents without labels.\n",
    "\n",
    "Keywords: *LSA*, *LDA*, *research*, *results*, *benchmark*"
   ],
   "metadata": {}
  },
  {
   "cell_type": "markdown",
   "source": [
    "# Plan\n",
    "\n",
    "WIP"
   ],
   "metadata": {}
  },
  {
   "cell_type": "markdown",
   "source": [],
   "metadata": {}
  }
 ],
 "metadata": {
  "orig_nbformat": 4,
  "language_info": {
   "name": "python"
  }
 },
 "nbformat": 4,
 "nbformat_minor": 2
}