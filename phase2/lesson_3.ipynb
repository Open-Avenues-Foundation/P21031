{
 "cells": [
  {
   "cell_type": "markdown",
   "source": [
    "# Week 3 - Model design\n",
    "\n",
    "In this lesson, we will learn how to bring all the pieces together—assembling what we learned so far into our problem. Then, we will design the pipeline that will create our final classification model. Finally, you will try to find all the system's limitations and new ideas from the final result. We will go through the assignment results and some of your questions after designing your model during this lesson.\n",
    "\n",
    "Keywords: *model design*, *assignment*, *linear algebra*, *embedding space*\n"
   ],
   "metadata": {}
  },
  {
   "cell_type": "markdown",
   "source": [
    "# Plan\n",
    "\n",
    "WIP"
   ],
   "metadata": {}
  },
  {
   "cell_type": "markdown",
   "source": [],
   "metadata": {}
  }
 ],
 "metadata": {
  "orig_nbformat": 4,
  "language_info": {
   "name": "python"
  }
 },
 "nbformat": 4,
 "nbformat_minor": 2
}